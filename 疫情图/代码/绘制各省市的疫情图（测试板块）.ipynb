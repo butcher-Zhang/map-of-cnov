{
 "cells": [
  {
   "cell_type": "code",
   "execution_count": 1,
   "metadata": {},
   "outputs": [],
   "source": [
    "from pyecharts import Map\n",
    "import random\n",
    "from province_city import province_city"
   ]
  },
  {
   "cell_type": "code",
   "execution_count": 2,
   "metadata": {},
   "outputs": [],
   "source": [
    "province_name = province_city.keys()"
   ]
  },
  {
   "cell_type": "code",
   "execution_count": 3,
   "metadata": {},
   "outputs": [],
   "source": [
    "for province in province_name:\n",
    "    citys = province_city[province]\n",
    "    city_value = []\n",
    "    for i in range(len(citys)):\n",
    "        city_value.append(random.randint(1,1000))\n",
    "    province_map = Map(province+\"地图\",province+'地图',width=800,height=600)\n",
    "    province_map.add(\"测试画出\"+province+\"地图\", citys , city_value , maptype=province,visual_range=[0,1000] , is_visualmap=True , isule_text_color=\"#000\", is_label_show=True)\n",
    "    province_map.render(path=\"province_map/\"+province+\"_map.html\")"
   ]
  },
  {
   "cell_type": "code",
   "execution_count": null,
   "metadata": {},
   "outputs": [],
   "source": []
  }
 ],
 "metadata": {
  "kernelspec": {
   "display_name": "Python 3",
   "language": "python",
   "name": "python3"
  },
  "language_info": {
   "codemirror_mode": {
    "name": "ipython",
    "version": 3
   },
   "file_extension": ".py",
   "mimetype": "text/x-python",
   "name": "python",
   "nbconvert_exporter": "python",
   "pygments_lexer": "ipython3",
   "version": "3.7.0"
  }
 },
 "nbformat": 4,
 "nbformat_minor": 4
}
